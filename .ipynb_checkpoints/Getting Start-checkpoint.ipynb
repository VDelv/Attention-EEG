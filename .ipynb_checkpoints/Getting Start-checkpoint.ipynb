{
 "cells": [
  {
   "cell_type": "markdown",
   "id": "blond-oriental",
   "metadata": {},
   "source": [
    "# Getting Start Notebook "
   ]
  },
  {
   "cell_type": "code",
   "execution_count": 1,
   "id": "cathedral-serve",
   "metadata": {},
   "outputs": [],
   "source": [
    "from utils import *"
   ]
  },
  {
   "cell_type": "markdown",
   "id": "distinguished-poison",
   "metadata": {},
   "source": [
    "## Loading Dataset "
   ]
  },
  {
   "cell_type": "markdown",
   "id": "rubber-telephone",
   "metadata": {},
   "source": [
    "if you don't want to load the already preprocessed features, it is possible to reprocess the dataset with the ```!python dataset_creation.py```\n",
    "\n",
    "if not you can directly use provided preprocessed signals. With the frequential feature, is is as follow:"
   ]
  },
  {
   "cell_type": "code",
   "execution_count": 16,
   "id": "attended-picture",
   "metadata": {},
   "outputs": [
    {
     "name": "stdout",
     "output_type": "stream",
     "text": [
      "Label has a shape of :  (4334,)\n",
      "Label has a shape of :  (4334,)\n"
     ]
    }
   ],
   "source": [
    "path_to_dataset = '../../../Desktop/PhyDAA/Dataset' # insert here the path to the dataset\n",
    "\n",
    "lab = np.load(os.path.join(path_to_dataset, 'Label.npy'))\n",
    "participant = np.load(os.path.join(path_to_dataset, 'participant.npy'))\n",
    "\n",
    "print('Label has a shape of : ',lab.shape)\n",
    "print('Label has a shape of : ',participant.shape)"
   ]
  },
  {
   "cell_type": "code",
   "execution_count": 18,
   "id": "cardiac-bosnia",
   "metadata": {},
   "outputs": [
    {
     "name": "stdout",
     "output_type": "stream",
     "text": [
      "Feature array has a shape of :  (4334, 3, 31)\n",
      "Feature Images have a shape of :  (4334, 3, 32, 32)\n"
     ]
    }
   ],
   "source": [
    "feature_array = np.load(os.path.join(path_to_dataset, 'Array', 'freq_band.npy'))\n",
    "feature_image = np.load(os.path.join(path_to_dataset, 'Img', 'freq_img.npy'))\n",
    "\n",
    "print('Feature array has a shape of : ', feature_array.shape)\n",
    "print('Feature Images have a shape of : ', feature_image.shape)"
   ]
  },
  {
   "cell_type": "markdown",
   "id": "incoming-robinson",
   "metadata": {},
   "source": [
    "We have here:\n",
    "- ```lab``` representing the binary attention state (0 ~ distracted ; 1 ~ focus).\n",
    "- ```participant``` assigning the participant id for each signals of the dataset.\n",
    "- ```feature_array``` representing the preprocessed feature vector for each trials.\n",
    "- ```feature_image``` representing an array of images as described in the paper, each image corresponding to a trial's feature vector."
   ]
  },
  {
   "cell_type": "markdown",
   "id": "united-plastic",
   "metadata": {},
   "source": [
    "## Deep Learning Models Implementation\n",
    "\n",
    "coming soon"
   ]
  }
 ],
 "metadata": {
  "kernelspec": {
   "display_name": "Python 3",
   "language": "python",
   "name": "python3"
  },
  "language_info": {
   "codemirror_mode": {
    "name": "ipython",
    "version": 3
   },
   "file_extension": ".py",
   "mimetype": "text/x-python",
   "name": "python",
   "nbconvert_exporter": "python",
   "pygments_lexer": "ipython3",
   "version": "3.8.5"
  }
 },
 "nbformat": 4,
 "nbformat_minor": 5
}
